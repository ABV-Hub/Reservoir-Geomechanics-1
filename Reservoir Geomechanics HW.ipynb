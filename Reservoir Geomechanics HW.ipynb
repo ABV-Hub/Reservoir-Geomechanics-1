{
 "cells": [
  {
   "cell_type": "code",
   "execution_count": 20,
   "metadata": {
    "collapsed": true
   },
   "outputs": [],
   "source": [
    "import pandas as pd\n",
    "import matplotlib.pyplot as plt\n",
    "%matplotlib inline  \n",
    "import numpy as np"
   ]
  },
  {
   "cell_type": "markdown",
   "metadata": {},
   "source": [
    "## HW1"
   ]
  },
  {
   "cell_type": "code",
   "execution_count": 17,
   "metadata": {},
   "outputs": [],
   "source": [
    "BarnettShaleDenLogMeasured=pd.read_csv('ResGeo202HW1BarnettShaleData.txt',sep=\"\\t\",header=0)"
   ]
  },
  {
   "cell_type": "code",
   "execution_count": 22,
   "metadata": {},
   "outputs": [],
   "source": [
    "BarnettShaleDenLog=pd.DataFrame(np.array([[1, 1.9]]), columns=['Depth(ft)', 'Density (g/cc)']).append(BarnettShaleDenLogMeasured, ignore_index=True)"
   ]
  },
  {
   "cell_type": "code",
   "execution_count": 27,
   "metadata": {},
   "outputs": [
    {
     "data": {
      "image/png": "[encoded data removed]",
      "text/plain": [
       "<matplotlib.figure.Figure at 0x2508ee1f940>"
      ]
     },
     "metadata": {},
     "output_type": "display_data"
    }
   ],
   "source": [
    "x=BarnettShaleDenLog['Density (g/cc)']\n",
    "y=BarnettShaleDenLog['Depth(ft)']\n",
    "\n",
    "plt.plot(x,y)\n",
    "plt.gca().invert_yaxis()"
   ]
  },
  {
   "cell_type": "code",
   "execution_count": 39,
   "metadata": {},
   "outputs": [
    {
     "data": {
      "text/html": [
       "<div>\n",
       "<style>\n",
       "    .dataframe thead tr:only-child th {\n",
       "        text-align: right;\n",
       "    }\n",
       "\n",
       "    .dataframe thead th {\n",
       "        text-align: left;\n",
       "    }\n",
       "\n",
       "    .dataframe tbody tr th {\n",
       "        vertical-align: top;\n",
       "    }\n",
       "</style>\n",
       "<table border=\"1\" class=\"dataframe\">\n",
       "  <thead>\n",
       "    <tr style=\"text-align: right;\">\n",
       "      <th></th>\n",
       "      <th>Depth(ft)</th>\n",
       "      <th>Density (g/cc)</th>\n",
       "    </tr>\n",
       "  </thead>\n",
       "  <tbody>\n",
       "    <tr>\n",
       "      <th>9811</th>\n",
       "      <td>5000.0</td>\n",
       "      <td>2.4061</td>\n",
       "    </tr>\n",
       "  </tbody>\n",
       "</table>\n",
       "</div>"
      ],
      "text/plain": [
       "      Depth(ft)  Density (g/cc)\n",
       "9811     5000.0          2.4061"
      ]
     },
     "execution_count": 39,
     "metadata": {},
     "output_type": "execute_result"
    }
   ],
   "source": [
    "BarnettShaleDenLog[BarnettShaleDenLog['Depth(ft)']==5000]"
   ]
  },
  {
   "cell_type": "code",
   "execution_count": 43,
   "metadata": {},
   "outputs": [
    {
     "data": {
      "text/plain": [
       "5209.2065"
      ]
     },
     "execution_count": 43,
     "metadata": {},
     "output_type": "execute_result"
    }
   ],
   "source": [
    "Sv5000BS=5000*2.4061*0.433\n",
    "Sv5000BS"
   ]
  },
  {
   "cell_type": "code",
   "execution_count": 44,
   "metadata": {},
   "outputs": [
    {
     "data": {
      "text/html": [
       "<div>\n",
       "<style>\n",
       "    .dataframe thead tr:only-child th {\n",
       "        text-align: right;\n",
       "    }\n",
       "\n",
       "    .dataframe thead th {\n",
       "        text-align: left;\n",
       "    }\n",
       "\n",
       "    .dataframe tbody tr th {\n",
       "        vertical-align: top;\n",
       "    }\n",
       "</style>\n",
       "<table border=\"1\" class=\"dataframe\">\n",
       "  <thead>\n",
       "    <tr style=\"text-align: right;\">\n",
       "      <th></th>\n",
       "      <th>Depth(ft)</th>\n",
       "      <th>Density (g/cc)</th>\n",
       "    </tr>\n",
       "  </thead>\n",
       "  <tbody>\n",
       "    <tr>\n",
       "      <th>10811</th>\n",
       "      <td>5500.0</td>\n",
       "      <td>2.594</td>\n",
       "    </tr>\n",
       "  </tbody>\n",
       "</table>\n",
       "</div>"
      ],
      "text/plain": [
       "       Depth(ft)  Density (g/cc)\n",
       "10811     5500.0           2.594"
      ]
     },
     "execution_count": 44,
     "metadata": {},
     "output_type": "execute_result"
    }
   ],
   "source": [
    "BarnettShaleDenLog[BarnettShaleDenLog['Depth(ft)']==5500]"
   ]
  },
  {
   "cell_type": "code",
   "execution_count": 51,
   "metadata": {},
   "outputs": [
    {
     "data": {
      "text/plain": [
       "2381.5"
      ]
     },
     "execution_count": 51,
     "metadata": {},
     "output_type": "execute_result"
    }
   ],
   "source": [
    "SP5500BS=5500*0.433\n",
    "SP5500BS"
   ]
  },
  {
   "cell_type": "code",
   "execution_count": 53,
   "metadata": {},
   "outputs": [
    {
     "data": {
      "text/plain": [
       "1.123202"
      ]
     },
     "execution_count": 53,
     "metadata": {},
     "output_type": "execute_result"
    }
   ],
   "source": [
    "SvGrad=0.433*2.594\n",
    "SvGrad"
   ]
  },
  {
   "cell_type": "code",
   "execution_count": 31,
   "metadata": {
    "collapsed": true
   },
   "outputs": [],
   "source": [
    "GOMDensityLogMeasured=pd.read_csv('ResGeo202HW1GulfOfMexicoData.txt',sep=\"\\t\",header=0)"
   ]
  },
  {
   "cell_type": "code",
   "execution_count": 33,
   "metadata": {},
   "outputs": [],
   "source": [
    "GOMDenLog=pd.DataFrame(np.array([[1, 1],[1001,1.8]]), columns=['Depth(ft)', 'Density (g/cc)']).append(GOMDensityLogMeasured, ignore_index=True)"
   ]
  },
  {
   "cell_type": "code",
   "execution_count": 35,
   "metadata": {},
   "outputs": [
    {
     "data": {
      "image/png": "[encoded data removed]",
      "text/plain": [
       "<matplotlib.figure.Figure at 0x2508d2f9b00>"
      ]
     },
     "metadata": {},
     "output_type": "display_data"
    }
   ],
   "source": [
    "x=GOMDenLog['Density (g/cc)']\n",
    "y=GOMDenLog['Depth(ft)']\n",
    "\n",
    "plt.plot(x,y)\n",
    "plt.gca().invert_yaxis()"
   ]
  },
  {
   "cell_type": "markdown",
   "metadata": {},
   "source": [
    "What is the overburden stress in the Gulf of Mexico well at 10000 ft depth in psi?"
   ]
  },
  {
   "cell_type": "code",
   "execution_count": 47,
   "metadata": {},
   "outputs": [
    {
     "data": {
      "text/html": [
       "<div>\n",
       "<style>\n",
       "    .dataframe thead tr:only-child th {\n",
       "        text-align: right;\n",
       "    }\n",
       "\n",
       "    .dataframe thead th {\n",
       "        text-align: left;\n",
       "    }\n",
       "\n",
       "    .dataframe tbody tr th {\n",
       "        vertical-align: top;\n",
       "    }\n",
       "</style>\n",
       "<table border=\"1\" class=\"dataframe\">\n",
       "  <thead>\n",
       "    <tr style=\"text-align: right;\">\n",
       "      <th></th>\n",
       "      <th>Depth(ft)</th>\n",
       "      <th>Density (g/cc)</th>\n",
       "    </tr>\n",
       "  </thead>\n",
       "  <tbody>\n",
       "    <tr>\n",
       "      <th>6487</th>\n",
       "      <td>10000.0</td>\n",
       "      <td>2.364</td>\n",
       "    </tr>\n",
       "  </tbody>\n",
       "</table>\n",
       "</div>"
      ],
      "text/plain": [
       "      Depth(ft)  Density (g/cc)\n",
       "6487    10000.0           2.364"
      ]
     },
     "execution_count": 47,
     "metadata": {},
     "output_type": "execute_result"
    }
   ],
   "source": [
    "GOMDenLog[GOMDenLog['Depth(ft)']==10000]"
   ]
  },
  {
   "cell_type": "markdown",
   "metadata": {},
   "source": [
    "0.433*h+1.8*0.433*(3514-1000)+2.364*0.433*(10000-3514)"
   ]
  },
  {
   "cell_type": "code",
   "execution_count": 49,
   "metadata": {},
   "outputs": [
    {
     "data": {
      "text/plain": [
       "9031.559032"
      ]
     },
     "execution_count": 49,
     "metadata": {},
     "output_type": "execute_result"
    }
   ],
   "source": [
    "GOMSV10000=0.433*1000+1.8*0.433*(3514-1000)+2.364*0.433*(10000-3514)\n",
    "GOMSV10000"
   ]
  },
  {
   "cell_type": "code",
   "execution_count": 50,
   "metadata": {},
   "outputs": [
    {
     "data": {
      "text/plain": [
       "3247.5"
      ]
     },
     "execution_count": 50,
     "metadata": {},
     "output_type": "execute_result"
    }
   ],
   "source": [
    "GOMSP7500=0.433*7500\n",
    "GOMSP7500"
   ]
  },
  {
   "cell_type": "code",
   "execution_count": 54,
   "metadata": {},
   "outputs": [
    {
     "data": {
      "text/html": [
       "<div>\n",
       "<style>\n",
       "    .dataframe thead tr:only-child th {\n",
       "        text-align: right;\n",
       "    }\n",
       "\n",
       "    .dataframe thead th {\n",
       "        text-align: left;\n",
       "    }\n",
       "\n",
       "    .dataframe tbody tr th {\n",
       "        vertical-align: top;\n",
       "    }\n",
       "</style>\n",
       "<table border=\"1\" class=\"dataframe\">\n",
       "  <thead>\n",
       "    <tr style=\"text-align: right;\">\n",
       "      <th></th>\n",
       "      <th>Depth(ft)</th>\n",
       "      <th>Density (g/cc)</th>\n",
       "    </tr>\n",
       "  </thead>\n",
       "  <tbody>\n",
       "    <tr>\n",
       "      <th>7487</th>\n",
       "      <td>11000.0</td>\n",
       "      <td>2.35</td>\n",
       "    </tr>\n",
       "  </tbody>\n",
       "</table>\n",
       "</div>"
      ],
      "text/plain": [
       "      Depth(ft)  Density (g/cc)\n",
       "7487    11000.0            2.35"
      ]
     },
     "execution_count": 54,
     "metadata": {},
     "output_type": "execute_result"
    }
   ],
   "source": [
    "GOMDenLog[GOMDenLog['Depth(ft)']==11000]"
   ]
  },
  {
   "cell_type": "code",
   "execution_count": 56,
   "metadata": {},
   "outputs": [
    {
     "data": {
      "text/plain": [
       "0.9099809909090909"
      ]
     },
     "execution_count": 56,
     "metadata": {},
     "output_type": "execute_result"
    }
   ],
   "source": [
    "GOMSV11000=0.433*1000+1.8*0.433*(3514-1000)+2.35*0.433*(11000-3514)\n",
    "GOMSV11000/11000"
   ]
  },
  {
   "cell_type": "markdown",
   "metadata": {},
   "source": [
    "Densitylog=(1-phi)*DensityMatrix+phi*DensityFluid\n",
    "\n",
    "phi=(DensityMatrix-DensityLog)/DensityMatrix "
   ]
  },
  {
   "cell_type": "code",
   "execution_count": 57,
   "metadata": {},
   "outputs": [
    {
     "data": {
      "text/html": [
       "<div>\n",
       "<style>\n",
       "    .dataframe thead tr:only-child th {\n",
       "        text-align: right;\n",
       "    }\n",
       "\n",
       "    .dataframe thead th {\n",
       "        text-align: left;\n",
       "    }\n",
       "\n",
       "    .dataframe tbody tr th {\n",
       "        vertical-align: top;\n",
       "    }\n",
       "</style>\n",
       "<table border=\"1\" class=\"dataframe\">\n",
       "  <thead>\n",
       "    <tr style=\"text-align: right;\">\n",
       "      <th></th>\n",
       "      <th>Depth(ft)</th>\n",
       "      <th>Density (g/cc)</th>\n",
       "    </tr>\n",
       "  </thead>\n",
       "  <tbody>\n",
       "    <tr>\n",
       "      <th>10411</th>\n",
       "      <td>5300.0</td>\n",
       "      <td>2.6105</td>\n",
       "    </tr>\n",
       "  </tbody>\n",
       "</table>\n",
       "</div>"
      ],
      "text/plain": [
       "       Depth(ft)  Density (g/cc)\n",
       "10411     5300.0          2.6105"
      ]
     },
     "execution_count": 57,
     "metadata": {},
     "output_type": "execute_result"
    }
   ],
   "source": [
    "BarnettShaleDenLog[BarnettShaleDenLog['Depth(ft)']==5300]"
   ]
  },
  {
   "cell_type": "code",
   "execution_count": 59,
   "metadata": {},
   "outputs": [
    {
     "data": {
      "text/plain": [
       "0.052647058823529484"
      ]
     },
     "execution_count": 59,
     "metadata": {},
     "output_type": "execute_result"
    }
   ],
   "source": [
    "Porosity_5300_bs=(2.7-2.6105)/(2.7-1)\n",
    "Porosity_5300_bs"
   ]
  },
  {
   "cell_type": "code",
   "execution_count": 60,
   "metadata": {},
   "outputs": [
    {
     "data": {
      "text/html": [
       "<div>\n",
       "<style>\n",
       "    .dataframe thead tr:only-child th {\n",
       "        text-align: right;\n",
       "    }\n",
       "\n",
       "    .dataframe thead th {\n",
       "        text-align: left;\n",
       "    }\n",
       "\n",
       "    .dataframe tbody tr th {\n",
       "        vertical-align: top;\n",
       "    }\n",
       "</style>\n",
       "<table border=\"1\" class=\"dataframe\">\n",
       "  <thead>\n",
       "    <tr style=\"text-align: right;\">\n",
       "      <th></th>\n",
       "      <th>Depth(ft)</th>\n",
       "      <th>Density (g/cc)</th>\n",
       "    </tr>\n",
       "  </thead>\n",
       "  <tbody>\n",
       "    <tr>\n",
       "      <th>4687</th>\n",
       "      <td>8200.0</td>\n",
       "      <td>2.364</td>\n",
       "    </tr>\n",
       "  </tbody>\n",
       "</table>\n",
       "</div>"
      ],
      "text/plain": [
       "      Depth(ft)  Density (g/cc)\n",
       "4687     8200.0           2.364"
      ]
     },
     "execution_count": 60,
     "metadata": {},
     "output_type": "execute_result"
    }
   ],
   "source": [
    "GOMDenLog[GOMDenLog['Depth(ft)']==8200]"
   ]
  },
  {
   "cell_type": "code",
   "execution_count": 61,
   "metadata": {},
   "outputs": [
    {
     "data": {
      "text/plain": [
       "0.19764705882352956"
      ]
     },
     "execution_count": 61,
     "metadata": {},
     "output_type": "execute_result"
    }
   ],
   "source": [
    "Porosity_8200_GOM=(2.7-2.364)/(2.7-1)\n",
    "Porosity_8200_GOM"
   ]
  },
  {
   "cell_type": "markdown",
   "metadata": {},
   "source": [
    "## HW2"
   ]
  },
  {
   "cell_type": "code",
   "execution_count": 70,
   "metadata": {
    "collapsed": true
   },
   "outputs": [],
   "source": [
    "GOMDenLog['Porosity']=(2.7-GOMDenLog['Density (g/cc)'])/(2.7-1)"
   ]
  },
  {
   "cell_type": "code",
   "execution_count": 71,
   "metadata": {},
   "outputs": [
    {
     "data": {
      "text/plain": [
       "count    9588.000000\n",
       "mean        0.248626\n",
       "std         0.066665\n",
       "min        -0.287059\n",
       "25%         0.201176\n",
       "50%         0.255294\n",
       "75%         0.297647\n",
       "max         1.000000\n",
       "Name: Porosity, dtype: float64"
      ]
     },
     "execution_count": 71,
     "metadata": {},
     "output_type": "execute_result"
    }
   ],
   "source": [
    "GOMDenLog['Porosity'].describe()"
   ]
  },
  {
   "cell_type": "code",
   "execution_count": 72,
   "metadata": {},
   "outputs": [
    {
     "data": {
      "image/png": "[encoded data removed]",
      "text/plain": [
       "<matplotlib.figure.Figure at 0x2508f2b9160>"
      ]
     },
     "metadata": {},
     "output_type": "display_data"
    }
   ],
   "source": [
    "x=GOMDenLog['Porosity']\n",
    "y=GOMDenLog['Depth(ft)']\n",
    "\n",
    "plt.plot(x,y)\n",
    "plt.gca().invert_yaxis()"
   ]
  },
  {
   "cell_type": "code",
   "execution_count": 65,
   "metadata": {
    "collapsed": true
   },
   "outputs": [],
   "source": [
    "GOMDenLog['EffectiveSv_psi']=(0.433*1000+1.8*0.433*(3514-1000)+2.364*0.433*(GOMDenLog['Depth(ft)']-3514))-GOMDenLog['Depth(ft)']*0.433"
   ]
  },
  {
   "cell_type": "code",
   "execution_count": 67,
   "metadata": {},
   "outputs": [],
   "source": [
    "GOMDenLog['Sv']=(0.433*1000+1.8*0.433*(3514-1000)+2.364*0.433*(GOMDenLog['Depth(ft)']-3514))"
   ]
  },
  {
   "cell_type": "code",
   "execution_count": 73,
   "metadata": {},
   "outputs": [
    {
     "data": {
      "text/html": [
       "<div>\n",
       "<style>\n",
       "    .dataframe thead tr:only-child th {\n",
       "        text-align: right;\n",
       "    }\n",
       "\n",
       "    .dataframe thead th {\n",
       "        text-align: left;\n",
       "    }\n",
       "\n",
       "    .dataframe tbody tr th {\n",
       "        vertical-align: top;\n",
       "    }\n",
       "</style>\n",
       "<table border=\"1\" class=\"dataframe\">\n",
       "  <thead>\n",
       "    <tr style=\"text-align: right;\">\n",
       "      <th></th>\n",
       "      <th>Depth(ft)</th>\n",
       "      <th>Density (g/cc)</th>\n",
       "      <th>Porosity</th>\n",
       "      <th>EffectiveSv_psi</th>\n",
       "      <th>Sv</th>\n",
       "    </tr>\n",
       "  </thead>\n",
       "  <tbody>\n",
       "    <tr>\n",
       "      <th>0</th>\n",
       "      <td>1.0</td>\n",
       "      <td>1.000</td>\n",
       "      <td>1.000000</td>\n",
       "      <td>-1203.970356</td>\n",
       "      <td>-1203.537356</td>\n",
       "    </tr>\n",
       "    <tr>\n",
       "      <th>1</th>\n",
       "      <td>1001.0</td>\n",
       "      <td>1.800</td>\n",
       "      <td>0.529412</td>\n",
       "      <td>-613.358356</td>\n",
       "      <td>-179.925356</td>\n",
       "    </tr>\n",
       "    <tr>\n",
       "      <th>2</th>\n",
       "      <td>3515.0</td>\n",
       "      <td>2.154</td>\n",
       "      <td>0.321176</td>\n",
       "      <td>871.440212</td>\n",
       "      <td>2393.435212</td>\n",
       "    </tr>\n",
       "    <tr>\n",
       "      <th>3</th>\n",
       "      <td>3516.0</td>\n",
       "      <td>2.126</td>\n",
       "      <td>0.337647</td>\n",
       "      <td>872.030824</td>\n",
       "      <td>2394.458824</td>\n",
       "    </tr>\n",
       "    <tr>\n",
       "      <th>4</th>\n",
       "      <td>3517.0</td>\n",
       "      <td>2.098</td>\n",
       "      <td>0.354118</td>\n",
       "      <td>872.621436</td>\n",
       "      <td>2395.482436</td>\n",
       "    </tr>\n",
       "    <tr>\n",
       "      <th>5</th>\n",
       "      <td>3518.0</td>\n",
       "      <td>2.063</td>\n",
       "      <td>0.374706</td>\n",
       "      <td>873.212048</td>\n",
       "      <td>2396.506048</td>\n",
       "    </tr>\n",
       "    <tr>\n",
       "      <th>6</th>\n",
       "      <td>3519.0</td>\n",
       "      <td>2.084</td>\n",
       "      <td>0.362353</td>\n",
       "      <td>873.802660</td>\n",
       "      <td>2397.529660</td>\n",
       "    </tr>\n",
       "    <tr>\n",
       "      <th>7</th>\n",
       "      <td>3520.0</td>\n",
       "      <td>2.114</td>\n",
       "      <td>0.344706</td>\n",
       "      <td>874.393272</td>\n",
       "      <td>2398.553272</td>\n",
       "    </tr>\n",
       "    <tr>\n",
       "      <th>8</th>\n",
       "      <td>3521.0</td>\n",
       "      <td>2.128</td>\n",
       "      <td>0.336471</td>\n",
       "      <td>874.983884</td>\n",
       "      <td>2399.576884</td>\n",
       "    </tr>\n",
       "    <tr>\n",
       "      <th>9</th>\n",
       "      <td>3522.0</td>\n",
       "      <td>2.166</td>\n",
       "      <td>0.314118</td>\n",
       "      <td>875.574496</td>\n",
       "      <td>2400.600496</td>\n",
       "    </tr>\n",
       "    <tr>\n",
       "      <th>10</th>\n",
       "      <td>3523.0</td>\n",
       "      <td>2.128</td>\n",
       "      <td>0.336471</td>\n",
       "      <td>876.165108</td>\n",
       "      <td>2401.624108</td>\n",
       "    </tr>\n",
       "    <tr>\n",
       "      <th>11</th>\n",
       "      <td>3524.0</td>\n",
       "      <td>2.114</td>\n",
       "      <td>0.344706</td>\n",
       "      <td>876.755720</td>\n",
       "      <td>2402.647720</td>\n",
       "    </tr>\n",
       "    <tr>\n",
       "      <th>12</th>\n",
       "      <td>3525.0</td>\n",
       "      <td>2.094</td>\n",
       "      <td>0.356471</td>\n",
       "      <td>877.346332</td>\n",
       "      <td>2403.671332</td>\n",
       "    </tr>\n",
       "    <tr>\n",
       "      <th>13</th>\n",
       "      <td>3526.0</td>\n",
       "      <td>2.086</td>\n",
       "      <td>0.361176</td>\n",
       "      <td>877.936944</td>\n",
       "      <td>2404.694944</td>\n",
       "    </tr>\n",
       "    <tr>\n",
       "      <th>14</th>\n",
       "      <td>3527.0</td>\n",
       "      <td>2.066</td>\n",
       "      <td>0.372941</td>\n",
       "      <td>878.527556</td>\n",
       "      <td>2405.718556</td>\n",
       "    </tr>\n",
       "    <tr>\n",
       "      <th>15</th>\n",
       "      <td>3528.0</td>\n",
       "      <td>2.056</td>\n",
       "      <td>0.378824</td>\n",
       "      <td>879.118168</td>\n",
       "      <td>2406.742168</td>\n",
       "    </tr>\n",
       "    <tr>\n",
       "      <th>16</th>\n",
       "      <td>3529.0</td>\n",
       "      <td>2.054</td>\n",
       "      <td>0.380000</td>\n",
       "      <td>879.708780</td>\n",
       "      <td>2407.765780</td>\n",
       "    </tr>\n",
       "    <tr>\n",
       "      <th>17</th>\n",
       "      <td>3530.0</td>\n",
       "      <td>2.066</td>\n",
       "      <td>0.372941</td>\n",
       "      <td>880.299392</td>\n",
       "      <td>2408.789392</td>\n",
       "    </tr>\n",
       "    <tr>\n",
       "      <th>18</th>\n",
       "      <td>3531.0</td>\n",
       "      <td>2.108</td>\n",
       "      <td>0.348235</td>\n",
       "      <td>880.890004</td>\n",
       "      <td>2409.813004</td>\n",
       "    </tr>\n",
       "    <tr>\n",
       "      <th>19</th>\n",
       "      <td>3532.0</td>\n",
       "      <td>2.094</td>\n",
       "      <td>0.356471</td>\n",
       "      <td>881.480616</td>\n",
       "      <td>2410.836616</td>\n",
       "    </tr>\n",
       "    <tr>\n",
       "      <th>20</th>\n",
       "      <td>3533.0</td>\n",
       "      <td>2.086</td>\n",
       "      <td>0.361176</td>\n",
       "      <td>882.071228</td>\n",
       "      <td>2411.860228</td>\n",
       "    </tr>\n",
       "    <tr>\n",
       "      <th>21</th>\n",
       "      <td>3534.0</td>\n",
       "      <td>1.930</td>\n",
       "      <td>0.452941</td>\n",
       "      <td>882.661840</td>\n",
       "      <td>2412.883840</td>\n",
       "    </tr>\n",
       "    <tr>\n",
       "      <th>22</th>\n",
       "      <td>3535.0</td>\n",
       "      <td>1.936</td>\n",
       "      <td>0.449412</td>\n",
       "      <td>883.252452</td>\n",
       "      <td>2413.907452</td>\n",
       "    </tr>\n",
       "    <tr>\n",
       "      <th>23</th>\n",
       "      <td>3536.0</td>\n",
       "      <td>2.018</td>\n",
       "      <td>0.401176</td>\n",
       "      <td>883.843064</td>\n",
       "      <td>2414.931064</td>\n",
       "    </tr>\n",
       "    <tr>\n",
       "      <th>24</th>\n",
       "      <td>3537.0</td>\n",
       "      <td>2.130</td>\n",
       "      <td>0.335294</td>\n",
       "      <td>884.433676</td>\n",
       "      <td>2415.954676</td>\n",
       "    </tr>\n",
       "    <tr>\n",
       "      <th>25</th>\n",
       "      <td>3538.0</td>\n",
       "      <td>2.164</td>\n",
       "      <td>0.315294</td>\n",
       "      <td>885.024288</td>\n",
       "      <td>2416.978288</td>\n",
       "    </tr>\n",
       "    <tr>\n",
       "      <th>26</th>\n",
       "      <td>3539.0</td>\n",
       "      <td>2.140</td>\n",
       "      <td>0.329412</td>\n",
       "      <td>885.614900</td>\n",
       "      <td>2418.001900</td>\n",
       "    </tr>\n",
       "    <tr>\n",
       "      <th>27</th>\n",
       "      <td>3540.0</td>\n",
       "      <td>2.150</td>\n",
       "      <td>0.323529</td>\n",
       "      <td>886.205512</td>\n",
       "      <td>2419.025512</td>\n",
       "    </tr>\n",
       "    <tr>\n",
       "      <th>28</th>\n",
       "      <td>3541.0</td>\n",
       "      <td>2.148</td>\n",
       "      <td>0.324706</td>\n",
       "      <td>886.796124</td>\n",
       "      <td>2420.049124</td>\n",
       "    </tr>\n",
       "    <tr>\n",
       "      <th>29</th>\n",
       "      <td>3542.0</td>\n",
       "      <td>2.092</td>\n",
       "      <td>0.357647</td>\n",
       "      <td>887.386736</td>\n",
       "      <td>2421.072736</td>\n",
       "    </tr>\n",
       "    <tr>\n",
       "      <th>...</th>\n",
       "      <td>...</td>\n",
       "      <td>...</td>\n",
       "      <td>...</td>\n",
       "      <td>...</td>\n",
       "      <td>...</td>\n",
       "    </tr>\n",
       "    <tr>\n",
       "      <th>9558</th>\n",
       "      <td>13071.0</td>\n",
       "      <td>2.314</td>\n",
       "      <td>0.227059</td>\n",
       "      <td>6515.328484</td>\n",
       "      <td>12175.071484</td>\n",
       "    </tr>\n",
       "    <tr>\n",
       "      <th>9559</th>\n",
       "      <td>13072.0</td>\n",
       "      <td>2.314</td>\n",
       "      <td>0.227059</td>\n",
       "      <td>6515.919096</td>\n",
       "      <td>12176.095096</td>\n",
       "    </tr>\n",
       "    <tr>\n",
       "      <th>9560</th>\n",
       "      <td>13073.0</td>\n",
       "      <td>2.322</td>\n",
       "      <td>0.222353</td>\n",
       "      <td>6516.509708</td>\n",
       "      <td>12177.118708</td>\n",
       "    </tr>\n",
       "    <tr>\n",
       "      <th>9561</th>\n",
       "      <td>13074.0</td>\n",
       "      <td>2.354</td>\n",
       "      <td>0.203529</td>\n",
       "      <td>6517.100320</td>\n",
       "      <td>12178.142320</td>\n",
       "    </tr>\n",
       "    <tr>\n",
       "      <th>9562</th>\n",
       "      <td>13075.0</td>\n",
       "      <td>2.346</td>\n",
       "      <td>0.208235</td>\n",
       "      <td>6517.690932</td>\n",
       "      <td>12179.165932</td>\n",
       "    </tr>\n",
       "    <tr>\n",
       "      <th>9563</th>\n",
       "      <td>13076.0</td>\n",
       "      <td>2.338</td>\n",
       "      <td>0.212941</td>\n",
       "      <td>6518.281544</td>\n",
       "      <td>12180.189544</td>\n",
       "    </tr>\n",
       "    <tr>\n",
       "      <th>9564</th>\n",
       "      <td>13077.0</td>\n",
       "      <td>2.354</td>\n",
       "      <td>0.203529</td>\n",
       "      <td>6518.872156</td>\n",
       "      <td>12181.213156</td>\n",
       "    </tr>\n",
       "    <tr>\n",
       "      <th>9565</th>\n",
       "      <td>13078.0</td>\n",
       "      <td>2.354</td>\n",
       "      <td>0.203529</td>\n",
       "      <td>6519.462768</td>\n",
       "      <td>12182.236768</td>\n",
       "    </tr>\n",
       "    <tr>\n",
       "      <th>9566</th>\n",
       "      <td>13079.0</td>\n",
       "      <td>2.380</td>\n",
       "      <td>0.188235</td>\n",
       "      <td>6520.053380</td>\n",
       "      <td>12183.260380</td>\n",
       "    </tr>\n",
       "    <tr>\n",
       "      <th>9567</th>\n",
       "      <td>13080.0</td>\n",
       "      <td>2.476</td>\n",
       "      <td>0.131765</td>\n",
       "      <td>6520.643992</td>\n",
       "      <td>12184.283992</td>\n",
       "    </tr>\n",
       "    <tr>\n",
       "      <th>9568</th>\n",
       "      <td>13081.0</td>\n",
       "      <td>2.630</td>\n",
       "      <td>0.041176</td>\n",
       "      <td>6521.234604</td>\n",
       "      <td>12185.307604</td>\n",
       "    </tr>\n",
       "    <tr>\n",
       "      <th>9569</th>\n",
       "      <td>13082.0</td>\n",
       "      <td>2.936</td>\n",
       "      <td>-0.138824</td>\n",
       "      <td>6521.825216</td>\n",
       "      <td>12186.331216</td>\n",
       "    </tr>\n",
       "    <tr>\n",
       "      <th>9570</th>\n",
       "      <td>13083.0</td>\n",
       "      <td>3.188</td>\n",
       "      <td>-0.287059</td>\n",
       "      <td>6522.415828</td>\n",
       "      <td>12187.354828</td>\n",
       "    </tr>\n",
       "    <tr>\n",
       "      <th>9571</th>\n",
       "      <td>13084.0</td>\n",
       "      <td>2.692</td>\n",
       "      <td>0.004706</td>\n",
       "      <td>6523.006440</td>\n",
       "      <td>12188.378440</td>\n",
       "    </tr>\n",
       "    <tr>\n",
       "      <th>9572</th>\n",
       "      <td>13085.0</td>\n",
       "      <td>2.394</td>\n",
       "      <td>0.180000</td>\n",
       "      <td>6523.597052</td>\n",
       "      <td>12189.402052</td>\n",
       "    </tr>\n",
       "    <tr>\n",
       "      <th>9573</th>\n",
       "      <td>13086.0</td>\n",
       "      <td>2.318</td>\n",
       "      <td>0.224706</td>\n",
       "      <td>6524.187664</td>\n",
       "      <td>12190.425664</td>\n",
       "    </tr>\n",
       "    <tr>\n",
       "      <th>9574</th>\n",
       "      <td>13087.0</td>\n",
       "      <td>2.278</td>\n",
       "      <td>0.248235</td>\n",
       "      <td>6524.778276</td>\n",
       "      <td>12191.449276</td>\n",
       "    </tr>\n",
       "    <tr>\n",
       "      <th>9575</th>\n",
       "      <td>13088.0</td>\n",
       "      <td>2.286</td>\n",
       "      <td>0.243529</td>\n",
       "      <td>6525.368888</td>\n",
       "      <td>12192.472888</td>\n",
       "    </tr>\n",
       "    <tr>\n",
       "      <th>9576</th>\n",
       "      <td>13089.0</td>\n",
       "      <td>2.286</td>\n",
       "      <td>0.243529</td>\n",
       "      <td>6525.959500</td>\n",
       "      <td>12193.496500</td>\n",
       "    </tr>\n",
       "    <tr>\n",
       "      <th>9577</th>\n",
       "      <td>13090.0</td>\n",
       "      <td>2.287</td>\n",
       "      <td>0.242941</td>\n",
       "      <td>6526.550112</td>\n",
       "      <td>12194.520112</td>\n",
       "    </tr>\n",
       "    <tr>\n",
       "      <th>9578</th>\n",
       "      <td>13091.0</td>\n",
       "      <td>2.298</td>\n",
       "      <td>0.236471</td>\n",
       "      <td>6527.140724</td>\n",
       "      <td>12195.543724</td>\n",
       "    </tr>\n",
       "    <tr>\n",
       "      <th>9579</th>\n",
       "      <td>13092.0</td>\n",
       "      <td>2.308</td>\n",
       "      <td>0.230588</td>\n",
       "      <td>6527.731336</td>\n",
       "      <td>12196.567336</td>\n",
       "    </tr>\n",
       "    <tr>\n",
       "      <th>9580</th>\n",
       "      <td>13093.0</td>\n",
       "      <td>2.302</td>\n",
       "      <td>0.234118</td>\n",
       "      <td>6528.321948</td>\n",
       "      <td>12197.590948</td>\n",
       "    </tr>\n",
       "    <tr>\n",
       "      <th>9581</th>\n",
       "      <td>13094.0</td>\n",
       "      <td>2.294</td>\n",
       "      <td>0.238824</td>\n",
       "      <td>6528.912560</td>\n",
       "      <td>12198.614560</td>\n",
       "    </tr>\n",
       "    <tr>\n",
       "      <th>9582</th>\n",
       "      <td>13095.0</td>\n",
       "      <td>2.290</td>\n",
       "      <td>0.241176</td>\n",
       "      <td>6529.503172</td>\n",
       "      <td>12199.638172</td>\n",
       "    </tr>\n",
       "    <tr>\n",
       "      <th>9583</th>\n",
       "      <td>13096.0</td>\n",
       "      <td>2.314</td>\n",
       "      <td>0.227059</td>\n",
       "      <td>6530.093784</td>\n",
       "      <td>12200.661784</td>\n",
       "    </tr>\n",
       "    <tr>\n",
       "      <th>9584</th>\n",
       "      <td>13097.0</td>\n",
       "      <td>2.314</td>\n",
       "      <td>0.227059</td>\n",
       "      <td>6530.684396</td>\n",
       "      <td>12201.685396</td>\n",
       "    </tr>\n",
       "    <tr>\n",
       "      <th>9585</th>\n",
       "      <td>13098.0</td>\n",
       "      <td>2.294</td>\n",
       "      <td>0.238824</td>\n",
       "      <td>6531.275008</td>\n",
       "      <td>12202.709008</td>\n",
       "    </tr>\n",
       "    <tr>\n",
       "      <th>9586</th>\n",
       "      <td>13099.0</td>\n",
       "      <td>2.294</td>\n",
       "      <td>0.238824</td>\n",
       "      <td>6531.865620</td>\n",
       "      <td>12203.732620</td>\n",
       "    </tr>\n",
       "    <tr>\n",
       "      <th>9587</th>\n",
       "      <td>13100.0</td>\n",
       "      <td>2.279</td>\n",
       "      <td>0.247647</td>\n",
       "      <td>6532.456232</td>\n",
       "      <td>12204.756232</td>\n",
       "    </tr>\n",
       "  </tbody>\n",
       "</table>\n",
       "<p>9588 rows × 5 columns</p>\n",
       "</div>"
      ],
      "text/plain": [
       "      Depth(ft)  Density (g/cc)  Porosity  EffectiveSv_psi            Sv\n",
       "0           1.0           1.000  1.000000     -1203.970356  -1203.537356\n",
       "1        1001.0           1.800  0.529412      -613.358356   -179.925356\n",
       "2        3515.0           2.154  0.321176       871.440212   2393.435212\n",
       "3        3516.0           2.126  0.337647       872.030824   2394.458824\n",
       "4        3517.0           2.098  0.354118       872.621436   2395.482436\n",
       "5        3518.0           2.063  0.374706       873.212048   2396.506048\n",
       "6        3519.0           2.084  0.362353       873.802660   2397.529660\n",
       "7        3520.0           2.114  0.344706       874.393272   2398.553272\n",
       "8        3521.0           2.128  0.336471       874.983884   2399.576884\n",
       "9        3522.0           2.166  0.314118       875.574496   2400.600496\n",
       "10       3523.0           2.128  0.336471       876.165108   2401.624108\n",
       "11       3524.0           2.114  0.344706       876.755720   2402.647720\n",
       "12       3525.0           2.094  0.356471       877.346332   2403.671332\n",
       "13       3526.0           2.086  0.361176       877.936944   2404.694944\n",
       "14       3527.0           2.066  0.372941       878.527556   2405.718556\n",
       "15       3528.0           2.056  0.378824       879.118168   2406.742168\n",
       "16       3529.0           2.054  0.380000       879.708780   2407.765780\n",
       "17       3530.0           2.066  0.372941       880.299392   2408.789392\n",
       "18       3531.0           2.108  0.348235       880.890004   2409.813004\n",
       "19       3532.0           2.094  0.356471       881.480616   2410.836616\n",
       "20       3533.0           2.086  0.361176       882.071228   2411.860228\n",
       "21       3534.0           1.930  0.452941       882.661840   2412.883840\n",
       "22       3535.0           1.936  0.449412       883.252452   2413.907452\n",
       "23       3536.0           2.018  0.401176       883.843064   2414.931064\n",
       "24       3537.0           2.130  0.335294       884.433676   2415.954676\n",
       "25       3538.0           2.164  0.315294       885.024288   2416.978288\n",
       "26       3539.0           2.140  0.329412       885.614900   2418.001900\n",
       "27       3540.0           2.150  0.323529       886.205512   2419.025512\n",
       "28       3541.0           2.148  0.324706       886.796124   2420.049124\n",
       "29       3542.0           2.092  0.357647       887.386736   2421.072736\n",
       "...         ...             ...       ...              ...           ...\n",
       "9558    13071.0           2.314  0.227059      6515.328484  12175.071484\n",
       "9559    13072.0           2.314  0.227059      6515.919096  12176.095096\n",
       "9560    13073.0           2.322  0.222353      6516.509708  12177.118708\n",
       "9561    13074.0           2.354  0.203529      6517.100320  12178.142320\n",
       "9562    13075.0           2.346  0.208235      6517.690932  12179.165932\n",
       "9563    13076.0           2.338  0.212941      6518.281544  12180.189544\n",
       "9564    13077.0           2.354  0.203529      6518.872156  12181.213156\n",
       "9565    13078.0           2.354  0.203529      6519.462768  12182.236768\n",
       "9566    13079.0           2.380  0.188235      6520.053380  12183.260380\n",
       "9567    13080.0           2.476  0.131765      6520.643992  12184.283992\n",
       "9568    13081.0           2.630  0.041176      6521.234604  12185.307604\n",
       "9569    13082.0           2.936 -0.138824      6521.825216  12186.331216\n",
       "9570    13083.0           3.188 -0.287059      6522.415828  12187.354828\n",
       "9571    13084.0           2.692  0.004706      6523.006440  12188.378440\n",
       "9572    13085.0           2.394  0.180000      6523.597052  12189.402052\n",
       "9573    13086.0           2.318  0.224706      6524.187664  12190.425664\n",
       "9574    13087.0           2.278  0.248235      6524.778276  12191.449276\n",
       "9575    13088.0           2.286  0.243529      6525.368888  12192.472888\n",
       "9576    13089.0           2.286  0.243529      6525.959500  12193.496500\n",
       "9577    13090.0           2.287  0.242941      6526.550112  12194.520112\n",
       "9578    13091.0           2.298  0.236471      6527.140724  12195.543724\n",
       "9579    13092.0           2.308  0.230588      6527.731336  12196.567336\n",
       "9580    13093.0           2.302  0.234118      6528.321948  12197.590948\n",
       "9581    13094.0           2.294  0.238824      6528.912560  12198.614560\n",
       "9582    13095.0           2.290  0.241176      6529.503172  12199.638172\n",
       "9583    13096.0           2.314  0.227059      6530.093784  12200.661784\n",
       "9584    13097.0           2.314  0.227059      6530.684396  12201.685396\n",
       "9585    13098.0           2.294  0.238824      6531.275008  12202.709008\n",
       "9586    13099.0           2.294  0.238824      6531.865620  12203.732620\n",
       "9587    13100.0           2.279  0.247647      6532.456232  12204.756232\n",
       "\n",
       "[9588 rows x 5 columns]"
      ]
     },
     "execution_count": 73,
     "metadata": {},
     "output_type": "execute_result"
    }
   ],
   "source": [
    "GOMDenLog"
   ]
  },
  {
   "attachments": {
    "image.png": {
     "image/png": "[encoded data removed]"
    }
   },
   "cell_type": "markdown",
   "metadata": {},
   "source": [
    "![image.png](attachment:image.png)"
   ]
  },
  {
   "cell_type": "code",
   "execution_count": 107,
   "metadata": {},
   "outputs": [],
   "source": [
    "GOMDenLog['Cal_Porosity']=0.4*np.exp(-0.0002*GOMDenLog['EffectiveSv_psi'])\n"
   ]
  },
  {
   "cell_type": "code",
   "execution_count": 93,
   "metadata": {},
   "outputs": [
    {
     "data": {
      "text/html": [
       "<div>\n",
       "<style>\n",
       "    .dataframe thead tr:only-child th {\n",
       "        text-align: right;\n",
       "    }\n",
       "\n",
       "    .dataframe thead th {\n",
       "        text-align: left;\n",
       "    }\n",
       "\n",
       "    .dataframe tbody tr th {\n",
       "        vertical-align: top;\n",
       "    }\n",
       "</style>\n",
       "<table border=\"1\" class=\"dataframe\">\n",
       "  <thead>\n",
       "    <tr style=\"text-align: right;\">\n",
       "      <th></th>\n",
       "      <th>Depth(ft)</th>\n",
       "      <th>Density (g/cc)</th>\n",
       "      <th>Porosity</th>\n",
       "      <th>EffectiveSv_psi</th>\n",
       "      <th>Sv</th>\n",
       "      <th>Cal_Porosity</th>\n",
       "      <th>Poro_Diff</th>\n",
       "      <th>Cal_Pp</th>\n",
       "      <th>PorePressure_Normal</th>\n",
       "      <th>Cal_Pp_from_Log_Poro</th>\n",
       "    </tr>\n",
       "  </thead>\n",
       "  <tbody>\n",
       "    <tr>\n",
       "      <th>1287</th>\n",
       "      <td>4800.0</td>\n",
       "      <td>2.178</td>\n",
       "      <td>0.307059</td>\n",
       "      <td>1630.376632</td>\n",
       "      <td>3708.776632</td>\n",
       "      <td>0.2887</td>\n",
       "      <td>0.018358</td>\n",
       "      <td>2078.4</td>\n",
       "      <td>2078.4</td>\n",
       "      <td>2386.650581</td>\n",
       "    </tr>\n",
       "  </tbody>\n",
       "</table>\n",
       "</div>"
      ],
      "text/plain": [
       "      Depth(ft)  Density (g/cc)  Porosity  EffectiveSv_psi           Sv  \\\n",
       "1287     4800.0           2.178  0.307059      1630.376632  3708.776632   \n",
       "\n",
       "      Cal_Porosity  Poro_Diff  Cal_Pp  PorePressure_Normal  \\\n",
       "1287        0.2887   0.018358  2078.4               2078.4   \n",
       "\n",
       "      Cal_Pp_from_Log_Poro  \n",
       "1287           2386.650581  "
      ]
     },
     "execution_count": 93,
     "metadata": {},
     "output_type": "execute_result"
    }
   ],
   "source": [
    "GOMDenLog[GOMDenLog['Depth(ft)']==4800]"
   ]
  },
  {
   "cell_type": "code",
   "execution_count": 75,
   "metadata": {},
   "outputs": [
    {
     "data": {
      "image/png": "[encoded data removed]",
      "text/plain": [
       "<matplotlib.figure.Figure at 0x2508f2be898>"
      ]
     },
     "metadata": {},
     "output_type": "display_data"
    }
   ],
   "source": [
    "x1=GOMDenLog['Porosity']\n",
    "x2=GOMDenLog['Cal_Porosity']\n",
    "y=GOMDenLog['Depth(ft)']\n",
    "\n",
    "plt.plot(x1,y)\n",
    "plt.plot(x2,y)\n",
    "plt.gca().invert_yaxis()"
   ]
  },
  {
   "cell_type": "code",
   "execution_count": 77,
   "metadata": {},
   "outputs": [],
   "source": [
    "GOMDenLog['Poro_Diff']=GOMDenLog['Porosity']-GOMDenLog['Cal_Porosity']"
   ]
  },
  {
   "cell_type": "markdown",
   "metadata": {},
   "source": [
    "GOMDenLog['Cal_Pp']=GOMDenLog['Sv']-(np.ln(GOMDenLog['Cal_Porosity']/0.4)/-0.0002)"
   ]
  },
  {
   "cell_type": "code",
   "execution_count": 96,
   "metadata": {},
   "outputs": [],
   "source": [
    "GOMDenLog['Cal_Pp']=GOMDenLog['Sv']-(np.log(GOMDenLog['Cal_Porosity']/0.4)/-0.0002)"
   ]
  },
  {
   "cell_type": "code",
   "execution_count": 85,
   "metadata": {},
   "outputs": [
    {
     "name": "stderr",
     "output_type": "stream",
     "text": [
      "C:\\ProgramData\\Anaconda3\\lib\\site-packages\\ipykernel_launcher.py:1: RuntimeWarning: invalid value encountered in log\n",
      "  \"\"\"Entry point for launching an IPython kernel.\n"
     ]
    }
   ],
   "source": [
    "GOMDenLog['Cal_Pp_from_Log_Poro']=GOMDenLog['Sv']-(np.log(GOMDenLog['Porosity']/0.4)/-0.0002)"
   ]
  },
  {
   "cell_type": "code",
   "execution_count": 91,
   "metadata": {},
   "outputs": [],
   "source": [
    "GOMDenLog['PorePressure_Normal']=0.433*GOMDenLog['Depth(ft)']"
   ]
  },
  {
   "cell_type": "code",
   "execution_count": null,
   "metadata": {},
   "outputs": [],
   "source": []
  },
  {
   "cell_type": "code",
   "execution_count": 108,
   "metadata": {},
   "outputs": [
    {
     "data": {
      "text/html": [
       "<div>\n",
       "<style>\n",
       "    .dataframe thead tr:only-child th {\n",
       "        text-align: right;\n",
       "    }\n",
       "\n",
       "    .dataframe thead th {\n",
       "        text-align: left;\n",
       "    }\n",
       "\n",
       "    .dataframe tbody tr th {\n",
       "        vertical-align: top;\n",
       "    }\n",
       "</style>\n",
       "<table border=\"1\" class=\"dataframe\">\n",
       "  <thead>\n",
       "    <tr style=\"text-align: right;\">\n",
       "      <th></th>\n",
       "      <th>Depth(ft)</th>\n",
       "      <th>Density (g/cc)</th>\n",
       "      <th>Porosity</th>\n",
       "      <th>EffectiveSv_psi</th>\n",
       "      <th>Sv</th>\n",
       "      <th>Cal_Porosity</th>\n",
       "      <th>Poro_Diff</th>\n",
       "      <th>Cal_Pp</th>\n",
       "      <th>PorePressure_Normal</th>\n",
       "      <th>Cal_Pp_from_Log_Poro</th>\n",
       "    </tr>\n",
       "  </thead>\n",
       "  <tbody>\n",
       "    <tr>\n",
       "      <th>9487</th>\n",
       "      <td>13000.0</td>\n",
       "      <td>2.302</td>\n",
       "      <td>0.234118</td>\n",
       "      <td>6473.395032</td>\n",
       "      <td>12102.395032</td>\n",
       "      <td>0.109594</td>\n",
       "      <td>0.124523</td>\n",
       "      <td>5629.0</td>\n",
       "      <td>5629.0</td>\n",
       "      <td>9424.191068</td>\n",
       "    </tr>\n",
       "  </tbody>\n",
       "</table>\n",
       "</div>"
      ],
      "text/plain": [
       "      Depth(ft)  Density (g/cc)  Porosity  EffectiveSv_psi            Sv  \\\n",
       "9487    13000.0           2.302  0.234118      6473.395032  12102.395032   \n",
       "\n",
       "      Cal_Porosity  Poro_Diff  Cal_Pp  PorePressure_Normal  \\\n",
       "9487      0.109594   0.124523  5629.0               5629.0   \n",
       "\n",
       "      Cal_Pp_from_Log_Poro  \n",
       "9487           9424.191068  "
      ]
     },
     "execution_count": 108,
     "metadata": {},
     "output_type": "execute_result"
    }
   ],
   "source": [
    "GOMDenLog[GOMDenLog['Depth(ft)']==13000]"
   ]
  },
  {
   "cell_type": "code",
   "execution_count": 95,
   "metadata": {},
   "outputs": [
    {
     "data": {
      "text/plain": [
       "3795"
      ]
     },
     "execution_count": 95,
     "metadata": {},
     "output_type": "execute_result"
    }
   ],
   "source": [
    "9424-5629"
   ]
  },
  {
   "cell_type": "code",
   "execution_count": 98,
   "metadata": {},
   "outputs": [
    {
     "data": {
      "text/html": [
       "<div>\n",
       "<style>\n",
       "    .dataframe thead tr:only-child th {\n",
       "        text-align: right;\n",
       "    }\n",
       "\n",
       "    .dataframe thead th {\n",
       "        text-align: left;\n",
       "    }\n",
       "\n",
       "    .dataframe tbody tr th {\n",
       "        vertical-align: top;\n",
       "    }\n",
       "</style>\n",
       "<table border=\"1\" class=\"dataframe\">\n",
       "  <thead>\n",
       "    <tr style=\"text-align: right;\">\n",
       "      <th></th>\n",
       "      <th>Depth(ft)</th>\n",
       "      <th>Density (g/cc)</th>\n",
       "      <th>Porosity</th>\n",
       "      <th>EffectiveSv_psi</th>\n",
       "      <th>Sv</th>\n",
       "      <th>Cal_Porosity</th>\n",
       "      <th>Poro_Diff</th>\n",
       "      <th>Cal_Pp</th>\n",
       "      <th>PorePressure_Normal</th>\n",
       "      <th>Cal_Pp_from_Log_Poro</th>\n",
       "    </tr>\n",
       "  </thead>\n",
       "  <tbody>\n",
       "    <tr>\n",
       "      <th>2487</th>\n",
       "      <td>6000.0</td>\n",
       "      <td>2.22</td>\n",
       "      <td>0.282353</td>\n",
       "      <td>2339.111032</td>\n",
       "      <td>4937.111032</td>\n",
       "      <td>0.250546</td>\n",
       "      <td>0.031807</td>\n",
       "      <td>2598.0</td>\n",
       "      <td>2598.0</td>\n",
       "      <td>3195.577561</td>\n",
       "    </tr>\n",
       "  </tbody>\n",
       "</table>\n",
       "</div>"
      ],
      "text/plain": [
       "      Depth(ft)  Density (g/cc)  Porosity  EffectiveSv_psi           Sv  \\\n",
       "2487     6000.0            2.22  0.282353      2339.111032  4937.111032   \n",
       "\n",
       "      Cal_Porosity  Poro_Diff  Cal_Pp  PorePressure_Normal  \\\n",
       "2487      0.250546   0.031807  2598.0               2598.0   \n",
       "\n",
       "      Cal_Pp_from_Log_Poro  \n",
       "2487           3195.577561  "
      ]
     },
     "execution_count": 98,
     "metadata": {},
     "output_type": "execute_result"
    }
   ],
   "source": [
    "GOMDenLog[GOMDenLog['Depth(ft)']==6000]"
   ]
  },
  {
   "cell_type": "code",
   "execution_count": 99,
   "metadata": {},
   "outputs": [
    {
     "data": {
      "text/plain": [
       "0.53259626"
      ]
     },
     "execution_count": 99,
     "metadata": {},
     "output_type": "execute_result"
    }
   ],
   "source": [
    "3195.57756/6000"
   ]
  },
  {
   "cell_type": "code",
   "execution_count": 100,
   "metadata": {},
   "outputs": [
    {
     "data": {
      "text/plain": [
       "1.232558139534884"
      ]
     },
     "execution_count": 100,
     "metadata": {},
     "output_type": "execute_result"
    }
   ],
   "source": [
    "0.53/0.43"
   ]
  },
  {
   "cell_type": "code",
   "execution_count": 102,
   "metadata": {},
   "outputs": [
    {
     "data": {
      "text/plain": [
       "10.192307692307693"
      ]
     },
     "execution_count": 102,
     "metadata": {},
     "output_type": "execute_result"
    }
   ],
   "source": [
    "0.53/0.052"
   ]
  },
  {
   "cell_type": "code",
   "execution_count": 103,
   "metadata": {},
   "outputs": [
    {
     "data": {
      "text/html": [
       "<div>\n",
       "<style>\n",
       "    .dataframe thead tr:only-child th {\n",
       "        text-align: right;\n",
       "    }\n",
       "\n",
       "    .dataframe thead th {\n",
       "        text-align: left;\n",
       "    }\n",
       "\n",
       "    .dataframe tbody tr th {\n",
       "        vertical-align: top;\n",
       "    }\n",
       "</style>\n",
       "<table border=\"1\" class=\"dataframe\">\n",
       "  <thead>\n",
       "    <tr style=\"text-align: right;\">\n",
       "      <th></th>\n",
       "      <th>Depth(ft)</th>\n",
       "      <th>Density (g/cc)</th>\n",
       "      <th>Porosity</th>\n",
       "      <th>EffectiveSv_psi</th>\n",
       "      <th>Sv</th>\n",
       "      <th>Cal_Porosity</th>\n",
       "      <th>Poro_Diff</th>\n",
       "      <th>Cal_Pp</th>\n",
       "      <th>PorePressure_Normal</th>\n",
       "      <th>Cal_Pp_from_Log_Poro</th>\n",
       "    </tr>\n",
       "  </thead>\n",
       "  <tbody>\n",
       "    <tr>\n",
       "      <th>6487</th>\n",
       "      <td>10000.0</td>\n",
       "      <td>2.364</td>\n",
       "      <td>0.197647</td>\n",
       "      <td>4701.559032</td>\n",
       "      <td>9031.559032</td>\n",
       "      <td>0.156202</td>\n",
       "      <td>0.041445</td>\n",
       "      <td>4330.0</td>\n",
       "      <td>4330.0</td>\n",
       "      <td>5506.650841</td>\n",
       "    </tr>\n",
       "  </tbody>\n",
       "</table>\n",
       "</div>"
      ],
      "text/plain": [
       "      Depth(ft)  Density (g/cc)  Porosity  EffectiveSv_psi           Sv  \\\n",
       "6487    10000.0           2.364  0.197647      4701.559032  9031.559032   \n",
       "\n",
       "      Cal_Porosity  Poro_Diff  Cal_Pp  PorePressure_Normal  \\\n",
       "6487      0.156202   0.041445  4330.0               4330.0   \n",
       "\n",
       "      Cal_Pp_from_Log_Poro  \n",
       "6487           5506.650841  "
      ]
     },
     "execution_count": 103,
     "metadata": {},
     "output_type": "execute_result"
    }
   ],
   "source": [
    "GOMDenLog[GOMDenLog['Depth(ft)']==10000]"
   ]
  },
  {
   "cell_type": "code",
   "execution_count": 104,
   "metadata": {},
   "outputs": [
    {
     "data": {
      "text/plain": [
       "0.550665"
      ]
     },
     "execution_count": 104,
     "metadata": {},
     "output_type": "execute_result"
    }
   ],
   "source": [
    "5506.65/10000"
   ]
  },
  {
   "cell_type": "code",
   "execution_count": 105,
   "metadata": {},
   "outputs": [
    {
     "data": {
      "text/plain": [
       "1.2790697674418605"
      ]
     },
     "execution_count": 105,
     "metadata": {},
     "output_type": "execute_result"
    }
   ],
   "source": [
    "0.55/0.43"
   ]
  },
  {
   "cell_type": "code",
   "execution_count": 106,
   "metadata": {},
   "outputs": [
    {
     "data": {
      "text/plain": [
       "10.576923076923078"
      ]
     },
     "execution_count": 106,
     "metadata": {},
     "output_type": "execute_result"
    }
   ],
   "source": [
    "0.55/0.052\n"
   ]
  },
  {
   "cell_type": "code",
   "execution_count": null,
   "metadata": {
    "collapsed": true
   },
   "outputs": [],
   "source": []
  }
 ],
 "metadata": {
  "kernelspec": {
   "display_name": "Python 3",
   "language": "python",
   "name": "python3"
  },
  "language_info": {
   "codemirror_mode": {
    "name": "ipython",
    "version": 3
   },
   "file_extension": ".py",
   "mimetype": "text/x-python",
   "name": "python",
   "nbconvert_exporter": "python",
   "pygments_lexer": "ipython3",
   "version": "3.6.3"
  }
 },
 "nbformat": 4,
 "nbformat_minor": 2
}
